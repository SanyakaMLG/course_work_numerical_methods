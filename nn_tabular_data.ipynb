{
 "cells": [
  {
   "cell_type": "code",
   "execution_count": null,
   "id": "539f6a2a-d0b1-4a28-b054-90e820b6b9c4",
   "metadata": {},
   "outputs": [],
   "source": [
    "import os\n",
    "from PIL import Image\n",
    "\n",
    "import pandas as pd\n",
    "import numpy as np\n",
    "from tqdm import tqdm\n",
    "\n",
    "from torchvision import transforms, models\n",
    "import torch\n",
    "from torch.utils.data import Dataset, DataLoader, Subset\n",
    "from torch import nn, optim\n",
    "\n",
    "from sklearn.model_selection import StratifiedKFold\n",
    "from sklearn.preprocessing import StandardScaler"
   ]
  },
  {
   "cell_type": "code",
   "execution_count": null,
   "id": "52c0cc6e-8810-4231-8c80-cc38e13a9f58",
   "metadata": {},
   "outputs": [],
   "source": [
    "df = pd.read_csv('breast-cancer.csv')"
   ]
  },
  {
   "cell_type": "code",
   "execution_count": null,
   "id": "ab262a65-51cc-46f1-aeea-6dbf287e4286",
   "metadata": {},
   "outputs": [],
   "source": [
    "df.info()"
   ]
  },
  {
   "cell_type": "code",
   "execution_count": null,
   "id": "7728d77d-f8a2-4053-8993-f15ad042bf5f",
   "metadata": {},
   "outputs": [],
   "source": [
    "df = df.drop(columns=['id'], errors='ignore')\n",
    "\n",
    "df['diagnosis'] = df['diagnosis'].map({'B': 0, 'M': 1})\n",
    "\n",
    "X = df.drop(columns=['diagnosis']).values\n",
    "y = df['diagnosis'].values"
   ]
  },
  {
   "cell_type": "code",
   "execution_count": null,
   "id": "7b7f9953-e7c3-43bd-9844-abf56703233e",
   "metadata": {},
   "outputs": [],
   "source": [
    "activation_dict = {\n",
    "    \"relu\": nn.ReLU,\n",
    "    \"tanh\": nn.Tanh,\n",
    "    \"sigmoid\": nn.Sigmoid\n",
    "}"
   ]
  },
  {
   "cell_type": "code",
   "execution_count": null,
   "id": "0ad45ce1-d124-4a48-8173-04cd8d1daca9",
   "metadata": {},
   "outputs": [],
   "source": [
    "def create_model(input_dim, hidden_config, output_dim=1):\n",
    "    \"\"\"\n",
    "    Создаёт MLP-модель с заданной конфигурацией:\n",
    "      hidden_config: [(n_neurons, activation_name), (n_neurons, activation_name), ...]\n",
    "      output_dim: количество нейронов на выходном слое (у нас 1, т.к. бинарная классификация)\n",
    "    \"\"\"\n",
    "    layers = []\n",
    "    in_dim = input_dim\n",
    "\n",
    "    for (n_neurons, act_name) in hidden_config:\n",
    "        layers.append(nn.Linear(in_dim, n_neurons))\n",
    "        layers.append(activation_dict[act_name]())\n",
    "        in_dim = n_neurons\n",
    "\n",
    "    # Выходной слой\n",
    "    layers.append(nn.Linear(in_dim, output_dim))\n",
    "    # Для бинарной классификации (через BCEWithLogitsLoss) активацию Sigmoid не добавляем здесь\n",
    "    model = nn.Sequential(*layers)\n",
    "    return model"
   ]
  },
  {
   "cell_type": "code",
   "execution_count": null,
   "id": "4382f7d8-7517-4a00-bb64-e109c76803e5",
   "metadata": {},
   "outputs": [],
   "source": [
    "def train_model(model, \n",
    "                X_train, y_train, \n",
    "                X_val, y_val, \n",
    "                epochs=20, \n",
    "                batch_size=32, \n",
    "                lr=1e-3, \n",
    "                device='cpu',\n",
    "                optimizer='Adam'):\n",
    "    X_train_t = torch.tensor(X_train, dtype=torch.float32).to(device)\n",
    "    y_train_t = torch.tensor(y_train, dtype=torch.float32).view(-1, 1).to(device)\n",
    "    X_val_t   = torch.tensor(X_val,   dtype=torch.float32).to(device)\n",
    "    y_val_t   = torch.tensor(y_val,   dtype=torch.float32).view(-1, 1).to(device)\n",
    "    \n",
    "    model.to(device)\n",
    "\n",
    "    if optimizer == 'Adam':\n",
    "        optimizer = optim.Adam(model.parameters(), lr=lr)\n",
    "    elif optimizer == 'NAG':\n",
    "        optimizer = optim.SGD(model.parameters(), lr=lr, nesterov=True, momentum=0.9)\n",
    "    elif optimizer == 'RMSProp':\n",
    "        optimizer = optim.RMSprop(model.parameters(), lr=lr)\n",
    "    elif optimizer == 'Adagrad':\n",
    "        optimizer = optim.Adagrad(model.parameters(), lr=lr)\n",
    "    elif optimizer == 'SGD':\n",
    "        optimizer = optim.SGD(model.parameters(), lr=lr)\n",
    "    else:\n",
    "        raise ValueError('Unknow optimizer parameter')\n",
    "        \n",
    "    criterion = nn.BCEWithLogitsLoss()\n",
    "\n",
    "    for epoch in range(epochs):\n",
    "        model.train()\n",
    "        permutation = torch.randperm(X_train_t.size(0))\n",
    "        for i in range(0, X_train_t.size(0), batch_size):\n",
    "            optimizer.zero_grad()\n",
    "            indices = permutation[i:i+batch_size]\n",
    "            batch_x, batch_y = X_train_t[indices], y_train_t[indices]\n",
    "\n",
    "            outputs = model(batch_x)\n",
    "            loss = criterion(outputs, batch_y)\n",
    "            loss.backward()\n",
    "            optimizer.step()\n",
    "\n",
    "    model.eval()\n",
    "    with torch.no_grad():\n",
    "        val_outputs = model(X_val_t)\n",
    "        val_preds = (torch.sigmoid(val_outputs) >= 0.5).float()\n",
    "        correct = (val_preds == y_val_t).sum().item()\n",
    "        val_acc = correct / len(y_val_t)\n",
    "\n",
    "    return val_acc"
   ]
  },
  {
   "cell_type": "code",
   "execution_count": null,
   "id": "72f90545-ca00-454d-a0ab-603cb3ed7b48",
   "metadata": {},
   "outputs": [],
   "source": [
    "def evaluate_model_cv(hidden_config, X, y, n_splits=5, epochs=20, batch_size=32, lr=1e-3, device='cpu', optimizer='Adam', verbose=False):\n",
    "    skf = StratifiedKFold(n_splits=n_splits, shuffle=True, random_state=42)\n",
    "\n",
    "    fold_accuracies = []\n",
    "    \n",
    "    iterator = enumerate(skf.split(X, y))\n",
    "    \n",
    "    if verbose:\n",
    "        iterator = tqdm(iterator)\n",
    "\n",
    "    for idx, (train_idx, val_idx) in iterator:\n",
    "        X_train, X_val = X[train_idx], X[val_idx]\n",
    "        y_train, y_val = y[train_idx], y[val_idx]\n",
    "\n",
    "        scaler = StandardScaler()\n",
    "        X_train = scaler.fit_transform(X_train)\n",
    "        X_val   = scaler.transform(X_val)\n",
    "\n",
    "        input_dim = X.shape[1]\n",
    "        model = create_model(input_dim, hidden_config)\n",
    "\n",
    "        val_acc = train_model(model, \n",
    "                              X_train, y_train, \n",
    "                              X_val,   y_val, \n",
    "                              epochs=epochs, \n",
    "                              batch_size=batch_size, \n",
    "                              lr=lr, \n",
    "                              device=device,\n",
    "                              optimizer=optimizer)\n",
    "        fold_accuracies.append(val_acc)\n",
    "\n",
    "    return np.mean(fold_accuracies)"
   ]
  },
  {
   "cell_type": "code",
   "execution_count": null,
   "id": "65e3f291-6d0e-4500-9995-b2a3f3f36be1",
   "metadata": {},
   "outputs": [],
   "source": [
    "evaluate_model_cv(\n",
    "    [(16, \"relu\")],\n",
    "    X,\n",
    "    y,\n",
    "    lr=1e-2,\n",
    "    n_splits=100,\n",
    "    device='cuda',\n",
    "    optimizer='SGD',\n",
    "    verbose=True,\n",
    ")"
   ]
  },
  {
   "cell_type": "code",
   "execution_count": null,
   "id": "c2e486ff-e4bd-477c-94b5-030aa0d30924",
   "metadata": {},
   "outputs": [],
   "source": [
    "evaluate_model_cv(\n",
    "    [(16, \"relu\")],\n",
    "    X,\n",
    "    y,\n",
    "    lr=1e-2,\n",
    "    n_splits=100,\n",
    "    device='cuda',\n",
    "    optimizer='NAG',\n",
    "    verbose=True,\n",
    ")"
   ]
  },
  {
   "cell_type": "code",
   "execution_count": null,
   "id": "6bd5c4ba-faed-4b21-956f-de8112e0830c",
   "metadata": {},
   "outputs": [],
   "source": [
    "evaluate_model_cv(\n",
    "    [(16, \"relu\")],\n",
    "    X,\n",
    "    y,\n",
    "    lr=1e-2,\n",
    "    n_splits=100,\n",
    "    device='cuda',\n",
    "    optimizer='Adagrad',\n",
    "    verbose=True,\n",
    ")"
   ]
  },
  {
   "cell_type": "code",
   "execution_count": null,
   "id": "5a8c7c13-e82e-4f1e-9090-6ff493ace12f",
   "metadata": {},
   "outputs": [],
   "source": [
    "evaluate_model_cv(\n",
    "    [(16, \"relu\")],\n",
    "    X,\n",
    "    y,\n",
    "    lr=1e-2,\n",
    "    n_splits=100,\n",
    "    device='cuda',\n",
    "    optimizer='RMSProp',\n",
    "    verbose=True,\n",
    ")"
   ]
  },
  {
   "cell_type": "code",
   "execution_count": null,
   "id": "208a21ec-9402-41e9-b9c6-33b24f50703d",
   "metadata": {},
   "outputs": [],
   "source": [
    "evaluate_model_cv(\n",
    "    [(16, \"relu\")],\n",
    "    X,\n",
    "    y,\n",
    "    lr=1e-2,\n",
    "    n_splits=100,\n",
    "    device='cuda',\n",
    "    optimizer='Adam',\n",
    ")"
   ]
  },
  {
   "cell_type": "markdown",
   "id": "71dc35eb-64a2-4c2c-9c8f-3db81b058d7e",
   "metadata": {},
   "source": [
    "# Genetic algorithm"
   ]
  },
  {
   "cell_type": "code",
   "execution_count": null,
   "id": "b6c0ccb2-34e9-47ff-a166-297f1a672d3d",
   "metadata": {},
   "outputs": [],
   "source": [
    "from deap import base, creator, tools, algorithms"
   ]
  },
  {
   "cell_type": "code",
   "execution_count": null,
   "id": "a3a756c7-8546-4686-9e27-b9810cfa954c",
   "metadata": {},
   "outputs": [],
   "source": [
    "\"\"\"\n",
    "Будем кодировать гиперпараметры так:\n",
    "- Число скрытых слоёв H: 1..3 (например)\n",
    "- Для каждого слоя: количество нейронов N: 4..64 (пример диапазона)\n",
    "- Для каждого слоя: функция активации: ['relu', 'tanh', 'sigmoid']\n",
    "\n",
    "То есть, если H=2, то особь должна хранить:\n",
    "[\n",
    "  (n_neurons_layer1, activation_layer1),\n",
    "  (n_neurons_layer2, activation_layer2)\n",
    "]\n",
    "\n",
    "Если H=1 — только один слой, если H=3 — три слоя и т.д.\n",
    "\n",
    "Для упрощения можно хранить в особи структуру вида:\n",
    "[H, n1, act1, n2, act2, n3, act3]\n",
    "\n",
    "Но придётся аккуратно интерпретировать в функции evaluate.\n",
    "\"\"\"\n",
    "\n",
    "H_min, H_max = 1, 5\n",
    "N_min, N_max = 4, 128\n",
    "activations = list(activation_dict.keys())  # [\"relu\", \"tanh\", \"sigmoid\"]"
   ]
  },
  {
   "cell_type": "code",
   "execution_count": null,
   "id": "4438b57c-c8df-49c8-8bd0-13b6e184648d",
   "metadata": {},
   "outputs": [],
   "source": [
    "creator.create(\"FitnessMax\", base.Fitness, weights=(1.0,))\n",
    "creator.create(\"Individual\", list, fitness=creator.FitnessMax)\n",
    "\n",
    "toolbox = base.Toolbox()"
   ]
  },
  {
   "cell_type": "code",
   "execution_count": null,
   "id": "f26f9fac-45dd-4a48-9984-01aa48e49201",
   "metadata": {},
   "outputs": [],
   "source": [
    "toolbox.register(\"num_layers\", np.random.randint, H_min, H_max+1)\n",
    "toolbox.register(\"n_neurons\", np.random.randint, N_min, N_max+1)\n",
    "toolbox.register(\"act\", lambda: np.random.choice(activations))"
   ]
  },
  {
   "cell_type": "code",
   "execution_count": null,
   "id": "c4d335a4-f2ff-498b-9303-36308f21a2ff",
   "metadata": {},
   "outputs": [],
   "source": [
    "def init_ind():\n",
    "    # Индивид = [H, n1, a1, n2, a2, n3, a3]\n",
    "    return [\n",
    "        toolbox.num_layers(),\n",
    "        toolbox.n_neurons(), toolbox.act(),\n",
    "        toolbox.n_neurons(), toolbox.act(),\n",
    "        toolbox.n_neurons(), toolbox.act(),\n",
    "        toolbox.n_neurons(), toolbox.act(),\n",
    "        toolbox.n_neurons(), toolbox.act(),\n",
    "    ]"
   ]
  },
  {
   "cell_type": "code",
   "execution_count": null,
   "id": "d3b2b68b-83d6-4094-a8ed-37d83269cb21",
   "metadata": {},
   "outputs": [],
   "source": [
    "toolbox.register(\"individual\", tools.initIterate, creator.Individual, init_ind)"
   ]
  },
  {
   "cell_type": "code",
   "execution_count": null,
   "id": "9d0172da-2713-4893-b653-03b10aff0476",
   "metadata": {},
   "outputs": [],
   "source": [
    "toolbox.register(\"population\", tools.initRepeat, list, toolbox.individual)"
   ]
  },
  {
   "cell_type": "code",
   "execution_count": null,
   "id": "5758a41d-3660-4572-92db-e32934edc7f8",
   "metadata": {},
   "outputs": [],
   "source": [
    "def decode_individual(ind):\n",
    "    H = ind[0]\n",
    "    hidden_config = []\n",
    "    for i in range(H):\n",
    "        n_i = ind[1 + i*2]\n",
    "        a_i = ind[2 + i*2]\n",
    "        hidden_config.append((n_i, a_i))\n",
    "    return hidden_config"
   ]
  },
  {
   "cell_type": "code",
   "execution_count": null,
   "id": "f3e63945-bb6a-4f92-aadd-13a63a3c72e2",
   "metadata": {},
   "outputs": [],
   "source": [
    "def eval_individual(ind):\n",
    "    hidden_config = decode_individual(ind)\n",
    "\n",
    "    acc = evaluate_model_cv(hidden_config, X, y, \n",
    "                            n_splits=100,\n",
    "                            epochs=20, \n",
    "                            batch_size=32,\n",
    "                            lr=1e-2,\n",
    "                            device='cuda')\n",
    "    return (acc,)"
   ]
  },
  {
   "cell_type": "code",
   "execution_count": null,
   "id": "66c892e8-52e0-4fb9-af4a-fbbb271c3ae1",
   "metadata": {},
   "outputs": [],
   "source": [
    "toolbox.register(\"evaluate\", eval_individual)"
   ]
  },
  {
   "cell_type": "code",
   "execution_count": null,
   "id": "3ba3cd91-55c6-4c12-b4d9-fca9b8b8fc6a",
   "metadata": {},
   "outputs": [],
   "source": [
    "def cx_individual(ind1, ind2):\n",
    "    cxpoint = np.random.randint(1, len(ind1))\n",
    "    ind1[cxpoint:], ind2[cxpoint:] = ind2[cxpoint:], ind1[cxpoint:]\n",
    "    return ind1, ind2"
   ]
  },
  {
   "cell_type": "code",
   "execution_count": null,
   "id": "0b111f0a-c391-4900-8efb-ee65bb31c322",
   "metadata": {},
   "outputs": [],
   "source": [
    "def mut_individual(ind, indpb=0.1):\n",
    "    for i in range(len(ind)):\n",
    "        if np.random.rand() < indpb:\n",
    "            if i == 0:\n",
    "                ind[i] = np.random.randint(H_min, H_max+1)\n",
    "            elif i % 2 == 1:\n",
    "                ind[i] = np.random.randint(N_min, N_max+1)\n",
    "            else:\n",
    "                if i > 0:\n",
    "                    ind[i] = np.random.choice(activations)\n",
    "    return (ind,)"
   ]
  },
  {
   "cell_type": "code",
   "execution_count": null,
   "id": "84cf7162-3710-4880-bc34-2ca9dfde337c",
   "metadata": {},
   "outputs": [],
   "source": [
    "toolbox.register(\"mate\", cx_individual)\n",
    "toolbox.register(\"mutate\", mut_individual, indpb=0.2)\n",
    "toolbox.register(\"select\", tools.selTournament, tournsize=3)"
   ]
  },
  {
   "cell_type": "code",
   "execution_count": null,
   "id": "35c04f59-4194-45c8-bae7-868ef74bfcc9",
   "metadata": {},
   "outputs": [],
   "source": [
    "def run_ga(n_generations=5, population_size=10):\n",
    "    pop = toolbox.population(n=population_size)\n",
    "    hof = tools.HallOfFame(1)  # сохраняем лучшее решение\n",
    "    \n",
    "    stats = tools.Statistics(lambda ind: ind.fitness.values)\n",
    "    stats.register(\"mean\", np.mean)\n",
    "    stats.register(\"max\", np.max)\n",
    "\n",
    "    pop, logbook = algorithms.eaSimple(pop, toolbox, \n",
    "                                       cxpb=0.7,  # вероятность скрещивания\n",
    "                                       mutpb=0.3,  # вероятность мутации\n",
    "                                       ngen=n_generations, \n",
    "                                       stats=stats, \n",
    "                                       halloffame=hof, \n",
    "                                       verbose=True)\n",
    "    \n",
    "    print(\"Лучшее решение:\", hof[0])\n",
    "    print(\"Fitness (accuracy) этого решения:\", hof[0].fitness.values[0])\n",
    "    \n",
    "    best_hidden_config = decode_individual(hof[0])\n",
    "    print(\"Декодированная конфигурация (слои):\", best_hidden_config)\n",
    "\n",
    "    return pop, hof, logbook"
   ]
  },
  {
   "cell_type": "code",
   "execution_count": null,
   "id": "87e31c4a-1923-4c9c-96a2-3e0d9545bd3b",
   "metadata": {},
   "outputs": [],
   "source": [
    "import time\n",
    "\n",
    "start = time.monotonic()\n",
    "final_pop, hall_of_fame, logs = run_ga(n_generations=10, population_size=15)\n",
    "end = time.monotonic()"
   ]
  },
  {
   "cell_type": "code",
   "execution_count": null,
   "id": "2cf8852e-a8ce-4eda-9633-80f4599316ff",
   "metadata": {},
   "outputs": [],
   "source": [
    "(end - start) / 60"
   ]
  },
  {
   "cell_type": "code",
   "execution_count": null,
   "id": "365e3cf3-3107-4641-9243-d9b85b5ead69",
   "metadata": {},
   "outputs": [],
   "source": [
    "with open('output.txt', 'w') as f:\n",
    "    f.write(str(hall_of_fame))\n",
    "    f.write('\\n\\n\\n')\n",
    "    f.write(str(logs))"
   ]
  },
  {
   "cell_type": "code",
   "execution_count": null,
   "id": "bf7c3456-8f40-4e68-a99d-b39a86aa169d",
   "metadata": {},
   "outputs": [],
   "source": [
    "hall_of_fame[0]"
   ]
  },
  {
   "cell_type": "code",
   "execution_count": null,
   "id": "24f9cfc3-50e3-472a-ae55-fec0b6c6afb3",
   "metadata": {},
   "outputs": [],
   "source": [
    "decode_individual(hall_of_fame[0])"
   ]
  },
  {
   "cell_type": "code",
   "execution_count": null,
   "id": "dc0c2662-561d-414a-95c5-0aa620249f1f",
   "metadata": {},
   "outputs": [],
   "source": []
  }
 ],
 "metadata": {
  "kernelspec": {
   "display_name": "Python 3 (ipykernel)",
   "language": "python",
   "name": "python3"
  },
  "language_info": {
   "codemirror_mode": {
    "name": "ipython",
    "version": 3
   },
   "file_extension": ".py",
   "mimetype": "text/x-python",
   "name": "python",
   "nbconvert_exporter": "python",
   "pygments_lexer": "ipython3",
   "version": "3.8.16"
  }
 },
 "nbformat": 4,
 "nbformat_minor": 5
}
